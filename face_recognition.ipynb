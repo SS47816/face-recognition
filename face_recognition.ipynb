{
 "cells": [
  {
   "cell_type": "markdown",
   "metadata": {},
   "source": [
    "# EE5907 CA2 Face Recognition"
   ]
  },
  {
   "cell_type": "markdown",
   "metadata": {},
   "source": [
    "## 0. Load Dataset"
   ]
  },
  {
   "cell_type": "code",
   "execution_count": 1,
   "metadata": {},
   "outputs": [],
   "source": [
    "import os\n",
    "import numpy as np\n",
    "import cv2\n",
    "import torch\n",
    "\n",
    "folder_path = 'data/PIE/1/'\n",
    "for img_file in os.listdir(folder_path):\n",
    "    img = cv2.imread(os.path.join(folder_path, img_file), 0)\n",
    "    \n",
    "\n",
    "    # display img\n",
    "    cv2.imshow(\"image\", img)\n",
    "    cv2.waitKey(0)\n",
    "cv2.destroyAllWindows() "
   ]
  },
  {
   "cell_type": "code",
   "execution_count": 4,
   "metadata": {},
   "outputs": [],
   "source": [
    "for f in os.listdir('dirpath'):\n",
    "    # Read the image in as a gray level image. Some modifications \n",
    "    # of the codes are needed if you want to read it in as a color \n",
    "    # image. For simplicity, let's use gray level images for now.\n",
    "    im = cv2.imread(os.path.join('dirpath', f), cv2.IMREAD_GRAYSCALE)\n",
    "\n",
    "    # Assume your images are all the same size, width w, and height h. \n",
    "    # If not, let's resize them to w * h first with cv2.resize(..)\n",
    "    vec = im.reshape(w * h)\n",
    "\n",
    "    # stack them up to form the matrix\n",
    "    try:\n",
    "        in_matrix = np.vstack((in_matrix, vec))\n",
    "    except:\n",
    "        in_matrix = vec\n",
    "\n",
    "# PCA \n",
    "if in_matrix is not None:\n",
    "    mean, eigenvectors = cv2.PCACompute(in_matrix, np.mean(in_matrix, axis=0).reshape(1,-1))"
   ]
  }
 ],
 "metadata": {
  "interpreter": {
   "hash": "7054a261619a3a42eb68d78c91903848c5bea5241ca903b241943998f9de0482"
  },
  "kernelspec": {
   "display_name": "Python 3.8.11 64-bit ('pr': conda)",
   "name": "python3"
  },
  "language_info": {
   "codemirror_mode": {
    "name": "ipython",
    "version": 3
   },
   "file_extension": ".py",
   "mimetype": "text/x-python",
   "name": "python",
   "nbconvert_exporter": "python",
   "pygments_lexer": "ipython3",
   "version": "3.8.11"
  },
  "orig_nbformat": 4
 },
 "nbformat": 4,
 "nbformat_minor": 2
}
